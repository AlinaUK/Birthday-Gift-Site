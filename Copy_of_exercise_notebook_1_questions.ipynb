{
  "cells": [
    {
      "cell_type": "markdown",
      "metadata": {
        "id": "view-in-github",
        "colab_type": "text"
      },
      "source": [
        "<a href=\"https://colab.research.google.com/github/AlinaUK/Birthday-Gift-Site/blob/main/Copy_of_exercise_notebook_1_questions.ipynb\" target=\"_parent\"><img src=\"https://colab.research.google.com/assets/colab-badge.svg\" alt=\"Open In Colab\"/></a>"
      ]
    },
    {
      "cell_type": "markdown",
      "metadata": {
        "id": "37nZbUCQK6zA"
      },
      "source": [
        "#### Welcome to the first set of exercises.\n",
        "\n",
        "**Answer the following questions by writing your Python solution in the cells below; consult the slides seen in class for the syntax of Python instructions.**"
      ]
    },
    {
      "cell_type": "markdown",
      "metadata": {
        "id": "H3ANuhW9LAa5"
      },
      "source": [
        "**Question 1:** Create a code to print *Hello World!* on the screen."
      ]
    },
    {
      "cell_type": "code",
      "execution_count": null,
      "metadata": {
        "colab": {
          "base_uri": "https://localhost:8080/",
          "height": 34
        },
        "id": "SS-I9I49K5wK",
        "outputId": "2ddd4156-d180-43f5-876e-b8e62ed5aef7"
      },
      "outputs": [
        {
          "name": "stdout",
          "output_type": "stream",
          "text": [
            "Hello World!\n"
          ]
        }
      ],
      "source": [
        "# Provide your solution here\n",
        "print(\"Hello World!\")\n",
        "\n"
      ]
    },
    {
      "cell_type": "markdown",
      "metadata": {
        "id": "l_PFVnGuqVUZ"
      },
      "source": [
        "**Question 2:** Study and run the following code, what does it print?"
      ]
    },
    {
      "cell_type": "code",
      "execution_count": null,
      "metadata": {
        "colab": {
          "base_uri": "https://localhost:8080/"
        },
        "id": "TPzCZeplqaZL",
        "outputId": "1ad787e8-7b16-4de4-a072-713f68628bd4"
      },
      "outputs": [
        {
          "name": "stdout",
          "output_type": "stream",
          "text": [
            "Hi\n",
            "There!\n"
          ]
        }
      ],
      "source": [
        "print(\"Hi\")\n",
        "print(\"There!\")\n",
        "\n",
        "# This will print:\n",
        "# Hi!\n",
        "# There!\n",
        "#"
      ]
    },
    {
      "cell_type": "markdown",
      "metadata": {
        "id": "A2sx4DhBOswJ"
      },
      "source": [
        "<img src='https://drive.google.com/uc?id=1WQphg5JK-cVYpbiVfPtOjz9yONtQKSnY' width=\"50\" height=\"50\">\n",
        "> You can use multiple print statements."
      ]
    },
    {
      "cell_type": "markdown",
      "metadata": {
        "id": "fXFVTrIeL1KD"
      },
      "source": [
        "**Question 2:** Create a program to print the following:\n",
        "\n",
        "*Hello,*\n",
        "\n",
        "*I am learning Python!*\n",
        "\n",
        "You can use as many **print** statements as you like."
      ]
    },
    {
      "cell_type": "code",
      "execution_count": null,
      "metadata": {
        "colab": {
          "base_uri": "https://localhost:8080/",
          "height": 50
        },
        "id": "yxkwT8TkL2nV",
        "outputId": "294f4ba0-3bec-41be-d07a-dc2393a7981e"
      },
      "outputs": [
        {
          "name": "stdout",
          "output_type": "stream",
          "text": [
            "Hello,\n",
            "I am learning Python!\n"
          ]
        }
      ],
      "source": [
        "# Provide your solution here\n",
        "print(\"Hello\"  \",\")\n",
        "print(\"I am learning Python!\")\n"
      ]
    },
    {
      "cell_type": "markdown",
      "metadata": {
        "id": "DqlgYVB0qyKO"
      },
      "source": [
        "**Question 3.1:** Study and run the following program.\n",
        "\n",
        "What does this program do?"
      ]
    },
    {
      "cell_type": "code",
      "execution_count": null,
      "metadata": {
        "colab": {
          "base_uri": "https://localhost:8080/"
        },
        "id": "SmbTlXDoqyPx",
        "outputId": "f52db591-b04b-4c55-cc31-0a1dff8e44cb"
      },
      "outputs": [
        {
          "name": "stdout",
          "output_type": "stream",
          "text": [
            "\n",
            "\n"
          ]
        }
      ],
      "source": [
        "address = input(\"What is your address?\")\n",
        "print(address)\n",
        "\n",
        "# Did you notice the space after the questionmark?\n",
        "address = input(\"What is your address?\")\n",
        "print(address)\n"
      ]
    },
    {
      "cell_type": "markdown",
      "metadata": {
        "id": "2zxV6nUrLD_Y"
      },
      "source": [
        "**Question 3.2:** Prompt the user to enter a name and then print it."
      ]
    },
    {
      "cell_type": "code",
      "execution_count": null,
      "metadata": {
        "id": "tdZKvEUaMa8k"
      },
      "outputs": [],
      "source": [
        "# Provide your solution here\n",
        "name = input(\"What is your name?\")\n",
        "print = (\"name\")\n"
      ]
    },
    {
      "cell_type": "markdown",
      "metadata": {
        "id": "PTyK7NXZSy1O"
      },
      "source": [
        "**Question 3.3:** Study and run the following code."
      ]
    },
    {
      "cell_type": "code",
      "execution_count": null,
      "metadata": {
        "id": "pQpRZ7Y5Sy7_",
        "outputId": "f082bb80-0119-4c24-9ed3-504a092a3bf3"
      },
      "outputs": [
        {
          "name": "stdout",
          "output_type": "stream",
          "text": [
            "fname is:  \n",
            "sname is:  \n",
            "fname is:   sname is:  .\n"
          ]
        }
      ],
      "source": [
        "# We can prompt the user to enter multiple values, one after the other\n",
        "\n",
        "fname = input(\"Input your firstname: \")\n",
        "sname = input(\"Input your surname: \")\n",
        "\n",
        "print(\"fname is: \", fname)\n",
        "print(\"sname is: \", sname)\n",
        "\n",
        "# Or\n",
        "\n",
        "# We seperate by text and variables by commas\n",
        "print(\"fname is:\", fname, \" sname is:\",sname, \".\")"
      ]
    },
    {
      "cell_type": "markdown",
      "metadata": {
        "id": "TCaPLDYWO6QF"
      },
      "source": [
        "<img src='https://drive.google.com/uc?id=1zHRUx7gL2e5LMUMQ1_zPt6V0MI-v5Iv5' width=\"50\" height=\"50\">\n",
        "\n",
        "You can use **comma (,)** or **plus(+)** to concatenate text.\n",
        "\n",
        "Be extra careful when using the **+** as we also use it for mathematic operations.\n",
        "\n",
        "We cannot use **+** to print text and numbers!\n"
      ]
    },
    {
      "cell_type": "markdown",
      "metadata": {
        "id": "4hg9hwxbP9If"
      },
      "source": [
        " **Question 3.4:** Study and run the following code. What is wrong with this code?\n",
        "\n",
        " Can you fix it?"
      ]
    },
    {
      "cell_type": "code",
      "execution_count": null,
      "metadata": {
        "colab": {
          "base_uri": "https://localhost:8080/",
          "height": 233
        },
        "id": "tZikevwzPc6P",
        "outputId": "db571827-cad1-42e2-a080-b83f002da1f0"
      },
      "outputs": [
        {
          "name": "stdout",
          "output_type": "stream",
          "text": [
            "Hi5\n",
            "Hi5\n"
          ]
        }
      ],
      "source": [
        "print(\"Hi\" + str(5))\n",
        "\n",
        "# You cannot print String and Integers using plus symbol!\n",
        "\n",
        "# Provide your solution here\n",
        "print(\"Hi\" + str(5))"
      ]
    },
    {
      "cell_type": "markdown",
      "metadata": {
        "id": "be8Fn25VMdin"
      },
      "source": []
    },
    {
      "cell_type": "markdown",
      "metadata": {
        "id": "1pjIlxKluFiB"
      },
      "source": [
        "**Question 4:** Prompt the user to enter a city and then a country, one after the other.\n",
        "\n",
        "Then print both inputs by seperating it with a comma.\n",
        "\n",
        "This code should print, e.g., **London , England**\n",
        "\n"
      ]
    },
    {
      "cell_type": "code",
      "execution_count": null,
      "metadata": {
        "id": "U4-0PhyNuFiB",
        "outputId": "a66a3ccc-c67a-40b4-c537-36ad5f80501c"
      },
      "outputs": [
        {
          "name": "stdout",
          "output_type": "stream",
          "text": [
            "London,England\n"
          ]
        }
      ],
      "source": [
        "# Provide your solution here\n",
        "location = (\"London\" \",\" \"England\")\n",
        "print(location)\n"
      ]
    },
    {
      "cell_type": "markdown",
      "metadata": {
        "id": "eYukGIUmNOHp"
      },
      "source": [
        "**Question 5:** Prompt the user to enter two numbers, one after the other, and then print their difference."
      ]
    },
    {
      "cell_type": "code",
      "execution_count": null,
      "metadata": {
        "id": "j_YzwhZKNbq8",
        "outputId": "11b51526-9b9d-477e-af6d-87150e7b02e4"
      },
      "outputs": [
        {
          "name": "stdout",
          "output_type": "stream",
          "text": [
            "Their difference is: 5\n"
          ]
        }
      ],
      "source": [
        "# Prompt the user to enter the first number\n",
        "a = int(input(\"Enter the first number: \"))\n",
        "\n",
        "# Prompt the user to enter the second number\n",
        "b = int(input(\"Enter the second number: \"))\n",
        "\n",
        "if a > b:\n",
        "    print(f'Their difference is: {a - b}')\n",
        "\n",
        "elif b > a:\n",
        "    print(f'Their difference is: {b - a}')\n",
        "\n",
        "else:\n",
        "    print('Sorry, no differene!')"
      ]
    },
    {
      "cell_type": "markdown",
      "metadata": {
        "id": "-UM1UBy3Ns8b"
      },
      "source": [
        "**Question 6:** for reference as this has been seen in class already.\n",
        "\n",
        "\n",
        "Create a program to calculate the Celsius to Fahrenheit conversion.\n",
        "* Prompt the user to input a Celsius value.\n",
        "* Use the standard conversion formula **fahrenheit = (9/5 * celsius + 32)**"
      ]
    },
    {
      "cell_type": "code",
      "execution_count": null,
      "metadata": {
        "id": "GaLLJVpZOEqA",
        "outputId": "7550d2d3-8123-436e-b37a-e659490ff61a"
      },
      "outputs": [
        {
          "name": "stdout",
          "output_type": "stream",
          "text": [
            "The temperature in Fahrenheit is: 86.0\n"
          ]
        }
      ],
      "source": [
        "# Prompt the user to input a Celsius value\n",
        "celsius = float(input(\"Enter the temperature in Celsius: \"))\n",
        "\n",
        "# Convert Celsius to Fahrenheit using the formula\n",
        "fahrenheit = (9 / 5) * celsius + 32\n",
        "\n",
        "# Print the result\n",
        "print(f\"The temperature in Fahrenheit is: {fahrenheit}\")\n"
      ]
    },
    {
      "cell_type": "markdown",
      "metadata": {
        "id": "0veexAyGvpm1"
      },
      "source": [
        "<img src='https://drive.google.com/uc?id=1zHRUx7gL2e5LMUMQ1_zPt6V0MI-v5Iv5' width=\"50\" height=\"50\">\n",
        "\n",
        "Remember to handle numerical user input with care.\n",
        "Every time we expect the user to enter an integer, we will need to convert it using the **int()** fuction.\n",
        "\n"
      ]
    },
    {
      "cell_type": "markdown",
      "metadata": {
        "id": "pJOOGalwOP7m"
      },
      "source": [
        "**Question 7:** Prompt the user to enter one of the two options:\n",
        "* *Coffee* or *Cookie*\n",
        "\n",
        "Then, compare the inputs:\n",
        "*  If the input is *Coffee* print *You ordered a Coffee*\n",
        "*  If the input is *Cookie* print *You ordered a Cookie*\n"
      ]
    },
    {
      "cell_type": "code",
      "execution_count": null,
      "metadata": {
        "id": "QfPSAHZHOS_-",
        "outputId": "042dfe64-6fcb-43f6-d4a4-d63ce8211346"
      },
      "outputs": [
        {
          "name": "stdout",
          "output_type": "stream",
          "text": [
            "You ordered a coffee.\n"
          ]
        }
      ],
      "source": [
        "# Provide your solution here\n",
        "choice = input(\"Please enter your choice (coffee or cookie): \")\n",
        "\n",
        "if choice == \"coffee\" :\n",
        "    print(\"You ordered a coffee.\")\n",
        "elif choice == \"cookie\":\n",
        "    print(\"You ordered a cookie.\")\n"
      ]
    },
    {
      "cell_type": "markdown",
      "metadata": {
        "id": "uBNo9jdzw7y-"
      },
      "source": [
        "**Question 8.1:** Study and run the following code.\n",
        "What does it print?"
      ]
    },
    {
      "cell_type": "code",
      "execution_count": null,
      "metadata": {
        "colab": {
          "base_uri": "https://localhost:8080/"
        },
        "id": "174vVd62w8At",
        "outputId": "116b75af-8018-41e3-bd14-4186005718d8"
      },
      "outputs": [
        {
          "name": "stdout",
          "output_type": "stream",
          "text": [
            "25\n"
          ]
        }
      ],
      "source": [
        "# Prompt the user to provide an integer number\n",
        "user_number = int(input(\"Provide an integer number: \"))\n",
        "\n",
        "# Print the result of multiplying the number by itself\n",
        "print(user_number * user_number)"
      ]
    },
    {
      "cell_type": "markdown",
      "metadata": {
        "id": "IC4GAmFJuFiC"
      },
      "source": []
    },
    {
      "cell_type": "markdown",
      "metadata": {
        "id": "j-VdHAPoR_it"
      },
      "source": [
        "**Question 8.2:** Prompt the user to answer the following question \"How many days are in March?\"\n",
        "*  If the user enters 31, print \"That is correct!\"\n",
        "*  For any other input of a number print \"That is incorrect!\"\n"
      ]
    },
    {
      "cell_type": "code",
      "execution_count": null,
      "metadata": {
        "id": "MPGZUowER_p7",
        "outputId": "82575e69-c44d-42af-c898-19e62458e9ab"
      },
      "outputs": [
        {
          "name": "stdout",
          "output_type": "stream",
          "text": [
            "Thats incorrect\n"
          ]
        }
      ],
      "source": [
        "# Provide your solution here\n",
        "days_in_march = input(\"How many days are in March?\")\n",
        "if days_in_march == 31:\n",
        "    print(\"Thats correct\")\n",
        "else:\n",
        "    print(\"Thats incorrect\")\n"
      ]
    },
    {
      "cell_type": "markdown",
      "metadata": {
        "id": "JjGGrHm9RAOU"
      },
      "source": [
        "**Question 9:** Prompt the user to enter:\n",
        "\n",
        "1 for *Cappuccino*, 2 for *Latte* or 3 for *Espresso*.\n",
        "\n",
        "*  If the user enters 1, print *You ordered a Cappuccino*\n",
        "*  If the user enters 2, print *You ordered a Latte*\n",
        "*  If the user enters 3, print *You ordered an Espresso*\n",
        "* In any other case, print *Order number is unavailable*"
      ]
    },
    {
      "cell_type": "code",
      "execution_count": null,
      "metadata": {
        "id": "1OEu0gpXRAWW",
        "colab": {
          "base_uri": "https://localhost:8080/"
        },
        "outputId": "25ca9793-d83a-46b5-daf3-07e775314e60"
      },
      "outputs": [
        {
          "output_type": "stream",
          "name": "stdout",
          "text": [
            "Enter your order (1 for Cappuccino, 2 for Latte, 3 for Espresso): 2\n",
            "Order number is unavailable.\n"
          ]
        }
      ],
      "source": [
        "# Provide your solution here\n",
        "choice = input(\"Enter your order (1 for Cappuccino, 2 for Latte, 3 for Espresso): \")\n",
        "if choice == 1:\n",
        "    print(\"You ordered a Cappuccino.\")\n",
        "elif choice == 2:\n",
        "    print(\"You ordered a Latte.\")\n",
        "elif choice == 3:\n",
        "    print(\"You ordered an Espresso.\")\n",
        "else:\n",
        "    print(\"Order number is unavailable.\")\n"
      ]
    },
    {
      "cell_type": "markdown",
      "metadata": {
        "id": "FhOq9aDhSadL"
      },
      "source": [
        "**Question 10:** Prompt the user to enter two numbers. The user can enter any number e.g. 10, 20.33 etc.\n",
        "\n",
        "Create a program to print the maximum number between these two numbers."
      ]
    },
    {
      "cell_type": "code",
      "execution_count": null,
      "metadata": {
        "id": "Kv6bRsU9Salx",
        "outputId": "9faa0dcc-82fe-4044-8973-7343eba964a6"
      },
      "outputs": [
        {
          "name": "stdout",
          "output_type": "stream",
          "text": [
            "30\n"
          ]
        }
      ],
      "source": [
        "# Provide your solution here\n",
        "user_input = input(\"Enter two numbers separated by a comma or space: \")\n",
        "\n",
        "num1 = 20\n",
        "num2 = 30\n",
        "\n",
        "maximum_number = max(num1, num2)\n",
        "print(maximum_number)\n",
        "\n"
      ]
    },
    {
      "cell_type": "markdown",
      "metadata": {
        "id": "iNPbtKgBT_dY"
      },
      "source": [
        "**Question11a:** Study and run the following program.\n",
        "\n",
        "We use **and** in our condition, to represent that both conditions **a>b** and **a>c** are true. In this example we compare **a** with **b** and **c**, but what is the larger number between **b** and **c**."
      ]
    },
    {
      "cell_type": "code",
      "execution_count": null,
      "metadata": {
        "id": "jA-xY-rsT_3C"
      },
      "outputs": [],
      "source": [
        "a = 5\n",
        "b = 10\n",
        "c = 20\n",
        "if a>b and a>c:\n",
        "  print(\"a is bigger than b and c\")"
      ]
    },
    {
      "cell_type": "markdown",
      "metadata": {
        "id": "-Zx1H_LjSvUU"
      },
      "source": [
        "**Question 11b:** Prompt the user to enter three numbers. Create a program to print the maximum number between these three numbers (After completing this task study the solution document to identify different ways of implementing such functionality)."
      ]
    },
    {
      "cell_type": "markdown",
      "metadata": {
        "id": "qcjB4IKshSLP"
      },
      "source": [
        "<img src='https://drive.google.com/uc?id=1TILfsLPhdXLqyGIjILDLcNtvk-wACxyX' width=\"50\" height=\"50\">\n",
        "\n",
        "There are alternative ways to solve this challenging task."
      ]
    },
    {
      "cell_type": "code",
      "execution_count": null,
      "metadata": {
        "colab": {
          "base_uri": "https://localhost:8080/"
        },
        "id": "OI7C-hAHSvbm",
        "outputId": "148b88c0-8a47-441b-81a9-85bf304fde58"
      },
      "outputs": [
        {
          "name": "stdout",
          "output_type": "stream",
          "text": [
            "35\n"
          ]
        }
      ],
      "source": [
        "# Provide your solution here\n",
        "user_input = input(\"Enter three numbers separated by spaces : \")\n",
        "\n",
        "number1 = 10\n",
        "number2 = 22\n",
        "number3 = 35\n",
        "\n",
        "maximum_number = max(number1, number2, number3)\n",
        "\n",
        "print(maximum_number)\n"
      ]
    },
    {
      "cell_type": "markdown",
      "metadata": {
        "id": "5SVL43aRTL3G"
      },
      "source": [
        "**Question 12:** Create a program to check if an input number is non-zero.\n",
        "\n",
        "Prompt the user to enter a number and print the appropriate message as follows.\n",
        "\n",
        "* **Input is zero!** if the number is zero.\n",
        "* **Input is not zero!** if the number is not zero\n"
      ]
    },
    {
      "cell_type": "code",
      "execution_count": null,
      "metadata": {
        "id": "lFjpEI3zTMKC",
        "outputId": "0a00534d-08a9-4362-89e8-84d022545fd7"
      },
      "outputs": [
        {
          "name": "stdout",
          "output_type": "stream",
          "text": [
            "Input is not zero!\n"
          ]
        }
      ],
      "source": [
        "# Provide your solution here\n",
        "user_number = int(input(\"Enter the number: \"))\n",
        "\n",
        "# Check if the number is zero\n",
        "if user_number == 0:\n",
        "    print(\"Input is zero!\")\n",
        "else:\n",
        "    print(\"Input is not zero!\")\n"
      ]
    },
    {
      "cell_type": "markdown",
      "metadata": {
        "id": "TBLj57XQTyZk"
      },
      "source": [
        "<img src='https://drive.google.com/uc?id=1zHRUx7gL2e5LMUMQ1_zPt6V0MI-v5Iv5' width=\"50\" height=\"50\">\n",
        "\n",
        "We can use if, elif and else statements to create a program to evaluate a statement.\n",
        "\n",
        "Remember to use indentation to indicate the block of codes."
      ]
    },
    {
      "cell_type": "markdown",
      "metadata": {
        "id": "K9_MW-fVCmo8"
      },
      "source": [
        "# Develop small programs"
      ]
    },
    {
      "cell_type": "markdown",
      "metadata": {
        "id": "3n7bTDCNihlM"
      },
      "source": [
        "**Question 13:** Create a program for a calculator to perform the following operations:\n",
        "\n",
        "*   The user will enter the first number\n",
        "*   The user will enter the second number\n",
        "*   The user will select one of the following operations +,-,*,/\n",
        "*   The program will output the results of the calculation\n",
        "\n",
        "Try the program for different inputs such as:\n",
        "* 2, 3, +\n",
        "* 10, 5, -\n",
        "* 5, 10, *\n",
        "* 20, 10, /\n",
        "* 20, 0, /"
      ]
    },
    {
      "cell_type": "markdown",
      "metadata": {
        "id": "me8lfj1fgtfy"
      },
      "source": [
        "<img src='https://drive.google.com/uc?id=1TILfsLPhdXLqyGIjILDLcNtvk-wACxyX' width=\"50\" height=\"50\">\n",
        "\n",
        "This is a challenging task, make sure you consider all the different inputs when you develop your program."
      ]
    },
    {
      "cell_type": "code",
      "execution_count": null,
      "metadata": {
        "id": "QvvorBaajC-L",
        "colab": {
          "base_uri": "https://localhost:8080/"
        },
        "outputId": "bd4c157c-6330-46ce-e9e5-582197ae693e"
      },
      "outputs": [
        {
          "name": "stdout",
          "output_type": "stream",
          "text": [
            "Enter the first number: 10\n",
            "Enter the second number: 5\n",
            "Enter the operation (+, -, *, /): +\n"
          ]
        }
      ],
      "source": [
        "# Provide your solution here\n",
        "num1 = float(input(\"Enter the first number: \"))\n",
        "num2 = float(input(\"Enter the second number: \"))\n",
        "\n",
        "operation = input(\"Enter the operation (+, -, *, /): \")\n",
        "\n",
        "if operation == '+':\n",
        "        result = num1 + num2\n",
        "elif operation == '-':\n",
        "        result = num1 - num2\n",
        "elif operation == '*':\n",
        "        result = num1 * num2\n",
        "elif operation == '/':\n",
        "    if num2 != 0:\n",
        "            result = num1 / num2\n",
        "else:\n",
        "    print(\"Error: Division by zero!\")\n",
        "\n",
        "\n"
      ]
    },
    {
      "cell_type": "markdown",
      "metadata": {
        "id": "YyudIzQ0jVlc"
      },
      "source": [
        "**Question 14:** Create a program to compare if the following two phrases are the same:\n",
        "\n",
        "\n",
        "*   *All that glitters is not gold!*\n",
        "*   *all that glitters is not gold!*\n",
        "\n",
        "The program should print *Yes* or *No*.\n",
        "\n"
      ]
    },
    {
      "cell_type": "code",
      "execution_count": null,
      "metadata": {
        "id": "7W_z0ELqihtr",
        "outputId": "ff0a1876-f194-4ccb-c1e4-77dd3977509e"
      },
      "outputs": [
        {
          "name": "stdout",
          "output_type": "stream",
          "text": [
            "No\n"
          ]
        }
      ],
      "source": [
        "# Provide your solution here\n",
        "phrase1 = \"All that glitters is not gold!\"\n",
        "phrase2 = \"all that glitters is not gold!\"\n",
        "\n",
        "if phrase1 == phrase2:\n",
        "    print(\"Yes\")\n",
        "else:\n",
        "    print(\"No\")"
      ]
    },
    {
      "cell_type": "markdown",
      "metadata": {
        "id": "rPFeUMh9jtq4"
      },
      "source": [
        "**Question 15:** Create a program to identify the eligibility of a person to enter a cinema to watch a movie. Prompt the user for her/his age and print the appropriate output.\n",
        "* \tA person is eligible to watch the movie if she/he is over 9 years old\n",
        "* \tA person whose age is between 10 and 20 years old will pay £10\n",
        "*\t  also people whose age is greater than 60 will pay £10\n",
        "* \tAll the other ages will need to pay £12\n",
        "\n",
        "Provide a Python script to print appropriate messages for every case. Consider incorrect inputs e.g. negative numbers, in this case the program should input *input age is incorrect*."
      ]
    },
    {
      "cell_type": "code",
      "execution_count": null,
      "metadata": {
        "id": "B7q0ICVqjtz6",
        "outputId": "63d4a929-2000-45de-8154-7937347aafbd"
      },
      "outputs": [
        {
          "name": "stdout",
          "output_type": "stream",
          "text": [
            "You are eligible to enter the cinema!\n"
          ]
        }
      ],
      "source": [
        "# Provide your solution here\n",
        "age = int(input(\"Enter your age: \"))\n",
        "\n",
        "if age >= 9:\n",
        "    print(\"You are eligible to enter the cinema!\")\n",
        "\n",
        "elif 10 <= age <= 20 or age > 60:\n",
        "    print(\"You are eligible to enter the cinema. You pay £10!\")\n",
        "\n",
        "else:\n",
        "    print(\"You are eligible to enter the cinema. You pay £12!\")\n",
        "    (\"Input age is incorrect!\")\n",
        "\n"
      ]
    },
    {
      "cell_type": "markdown",
      "metadata": {
        "id": "jXUHA_Syu3d5"
      },
      "source": [
        "**Question 16:** Create a program to calculate the cost of potatoes for different user selections. Prompt the user to enter the kilos of potatoes and calculate the final price using the following options:\n",
        "* If the user buys 10 kilos or less, the cost will be £0.75 per kilo\n",
        "*\tIf the user buys 11 to 50 kilos the cost will be £0.65 per kilo\n",
        "*\tIf the user buys over 50 kilos the cost will be £0.5 per kilo\n",
        "*\tFor any other input, print *NA*\n",
        "\n",
        "The program should output the final cost for a user input.\n"
      ]
    },
    {
      "cell_type": "markdown",
      "metadata": {
        "id": "blnsR24whLdX"
      },
      "source": [
        "<img src='https://drive.google.com/uc?id=1TILfsLPhdXLqyGIjILDLcNtvk-wACxyX' width=\"50\" height=\"50\">\n",
        "\n",
        "This is a challenging task, so take your time."
      ]
    },
    {
      "cell_type": "code",
      "execution_count": null,
      "metadata": {
        "id": "xT1m6v-GlFis",
        "outputId": "c12a685a-e799-41e4-a4e3-120b29e3284e"
      },
      "outputs": [
        {
          "name": "stdout",
          "output_type": "stream",
          "text": [
            "The cost will be £0.65 per kilo!\n"
          ]
        }
      ],
      "source": [
        "# Provide your solution:\n",
        "\n",
        "potato = float(input(\"Enter the kilos of potatos: \"))\n",
        "\n",
        "if potato <= 10:\n",
        "    print(\"The cost will be £0.75 per kilo!\")\n",
        "\n",
        "elif 11 <= potato <= 50:\n",
        "      print(\"The cost will be £0.65 per kilo!\")\n",
        "\n",
        "elif potato > 50:\n",
        "      print(\"The cost will be £0.5 per kilo!\")\n",
        "\n",
        "else:\n",
        "    print(\"Input is incorrect!\")\n"
      ]
    }
  ],
  "metadata": {
    "colab": {
      "provenance": [],
      "include_colab_link": true
    },
    "kernelspec": {
      "display_name": "Python 3",
      "language": "python",
      "name": "python3"
    },
    "language_info": {
      "codemirror_mode": {
        "name": "ipython",
        "version": 3
      },
      "file_extension": ".py",
      "mimetype": "text/x-python",
      "name": "python",
      "nbconvert_exporter": "python",
      "pygments_lexer": "ipython3",
      "version": "3.13.0rc2"
    }
  },
  "nbformat": 4,
  "nbformat_minor": 0
}